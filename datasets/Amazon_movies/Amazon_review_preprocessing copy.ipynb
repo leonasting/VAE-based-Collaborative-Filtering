{
 "cells": [
  {
   "attachments": {},
   "cell_type": "markdown",
   "metadata": {},
   "source": [
    "# Amazon Review of kindle"
   ]
  },
  {
   "cell_type": "code",
   "execution_count": 1,
   "metadata": {},
   "outputs": [],
   "source": [
    "import pandas as pd\n",
    "import numpy as np\n",
    "import math\n",
    "import re\n",
    "from scipy.sparse import csr_matrix\n",
    "import matplotlib.pyplot as plt\n",
    "import seaborn as sns\n",
    "sns.set_style(\"darkgrid\")"
   ]
  },
  {
   "cell_type": "code",
   "execution_count": 2,
   "metadata": {},
   "outputs": [],
   "source": [
    "import os\n",
    "import sys"
   ]
  },
  {
   "cell_type": "code",
   "execution_count": 3,
   "metadata": {},
   "outputs": [],
   "source": [
    "import json"
   ]
  },
  {
   "attachments": {},
   "cell_type": "markdown",
   "metadata": {},
   "source": [
    "Only Considering 1 milion rows for preprocessing first"
   ]
  },
  {
   "cell_type": "code",
   "execution_count": 4,
   "metadata": {},
   "outputs": [],
   "source": [
    "# Define a generator function\n",
    "def read_json_chunks(filename, chunksize):\n",
    "    df_iterator = pd.read_json(filename, lines=True, chunksize=chunksize)\n",
    "    for chunk in df_iterator:\n",
    "        yield chunk\n",
    "\n",
    "chunk_generator = read_json_chunks(\"Kindle_Store.json\", 1000000)"
   ]
  },
  {
   "cell_type": "code",
   "execution_count": 5,
   "metadata": {},
   "outputs": [],
   "source": [
    "# 16 seconds for 1 million rows\n",
    "first_chunk = next(chunk_generator)\n"
   ]
  },
  {
   "cell_type": "code",
   "execution_count": 6,
   "metadata": {},
   "outputs": [
    {
     "data": {
      "text/html": [
       "<div>\n",
       "<style scoped>\n",
       "    .dataframe tbody tr th:only-of-type {\n",
       "        vertical-align: middle;\n",
       "    }\n",
       "\n",
       "    .dataframe tbody tr th {\n",
       "        vertical-align: top;\n",
       "    }\n",
       "\n",
       "    .dataframe thead th {\n",
       "        text-align: right;\n",
       "    }\n",
       "</style>\n",
       "<table border=\"1\" class=\"dataframe\">\n",
       "  <thead>\n",
       "    <tr style=\"text-align: right;\">\n",
       "      <th></th>\n",
       "      <th>overall</th>\n",
       "      <th>verified</th>\n",
       "      <th>reviewTime</th>\n",
       "      <th>reviewerID</th>\n",
       "      <th>asin</th>\n",
       "      <th>style</th>\n",
       "      <th>reviewerName</th>\n",
       "      <th>reviewText</th>\n",
       "      <th>summary</th>\n",
       "      <th>unixReviewTime</th>\n",
       "      <th>vote</th>\n",
       "      <th>image</th>\n",
       "    </tr>\n",
       "  </thead>\n",
       "  <tbody>\n",
       "    <tr>\n",
       "      <th>0</th>\n",
       "      <td>4</td>\n",
       "      <td>True</td>\n",
       "      <td>12 29, 2012</td>\n",
       "      <td>A27UD5HYAKBL97</td>\n",
       "      <td>1423600150</td>\n",
       "      <td>{'Format:': ' Hardcover'}</td>\n",
       "      <td>Cheryl</td>\n",
       "      <td>If you like making salsas this is a great book...</td>\n",
       "      <td>Great Book</td>\n",
       "      <td>1356739200</td>\n",
       "      <td>NaN</td>\n",
       "      <td>NaN</td>\n",
       "    </tr>\n",
       "    <tr>\n",
       "      <th>1</th>\n",
       "      <td>5</td>\n",
       "      <td>True</td>\n",
       "      <td>03 6, 2012</td>\n",
       "      <td>A8P5DK8LLOYGH</td>\n",
       "      <td>1423600150</td>\n",
       "      <td>{'Format:': ' Hardcover'}</td>\n",
       "      <td>Shay365</td>\n",
       "      <td>great little book. simple and right to the poi...</td>\n",
       "      <td>great little book</td>\n",
       "      <td>1330992000</td>\n",
       "      <td>3</td>\n",
       "      <td>NaN</td>\n",
       "    </tr>\n",
       "    <tr>\n",
       "      <th>2</th>\n",
       "      <td>5</td>\n",
       "      <td>True</td>\n",
       "      <td>08 12, 2009</td>\n",
       "      <td>A3OM9W7DXSUIIY</td>\n",
       "      <td>1423600150</td>\n",
       "      <td>{'Format:': ' Hardcover'}</td>\n",
       "      <td>R. Peckham</td>\n",
       "      <td>This book has good pics of the recipes and eas...</td>\n",
       "      <td>very good bok with good ideas.</td>\n",
       "      <td>1250035200</td>\n",
       "      <td>NaN</td>\n",
       "      <td>NaN</td>\n",
       "    </tr>\n",
       "    <tr>\n",
       "      <th>3</th>\n",
       "      <td>3</td>\n",
       "      <td>False</td>\n",
       "      <td>11 3, 2006</td>\n",
       "      <td>A3DPAR2PWB9BT8</td>\n",
       "      <td>1423600150</td>\n",
       "      <td>{'Format:': ' Hardcover'}</td>\n",
       "      <td>JJSS</td>\n",
       "      <td>I admire the SF School of Cooking, but was dis...</td>\n",
       "      <td>Ok cookbook</td>\n",
       "      <td>1162512000</td>\n",
       "      <td>3</td>\n",
       "      <td>NaN</td>\n",
       "    </tr>\n",
       "    <tr>\n",
       "      <th>4</th>\n",
       "      <td>5</td>\n",
       "      <td>False</td>\n",
       "      <td>04 11, 2006</td>\n",
       "      <td>A2ONTBSAX7GIOV</td>\n",
       "      <td>1423600150</td>\n",
       "      <td>{'Format:': ' Hardcover'}</td>\n",
       "      <td>Three Guys from Miami</td>\n",
       "      <td>Many people are surprised to find out that we ...</td>\n",
       "      <td>Fresh and Tasty Ideas from Santa Fe!</td>\n",
       "      <td>1144713600</td>\n",
       "      <td>15</td>\n",
       "      <td>NaN</td>\n",
       "    </tr>\n",
       "  </tbody>\n",
       "</table>\n",
       "</div>"
      ],
      "text/plain": [
       "   overall  verified   reviewTime      reviewerID        asin   \n",
       "0        4      True  12 29, 2012  A27UD5HYAKBL97  1423600150  \\\n",
       "1        5      True   03 6, 2012   A8P5DK8LLOYGH  1423600150   \n",
       "2        5      True  08 12, 2009  A3OM9W7DXSUIIY  1423600150   \n",
       "3        3     False   11 3, 2006  A3DPAR2PWB9BT8  1423600150   \n",
       "4        5     False  04 11, 2006  A2ONTBSAX7GIOV  1423600150   \n",
       "\n",
       "                       style           reviewerName   \n",
       "0  {'Format:': ' Hardcover'}                 Cheryl  \\\n",
       "1  {'Format:': ' Hardcover'}                Shay365   \n",
       "2  {'Format:': ' Hardcover'}             R. Peckham   \n",
       "3  {'Format:': ' Hardcover'}                   JJSS   \n",
       "4  {'Format:': ' Hardcover'}  Three Guys from Miami   \n",
       "\n",
       "                                          reviewText   \n",
       "0  If you like making salsas this is a great book...  \\\n",
       "1  great little book. simple and right to the poi...   \n",
       "2  This book has good pics of the recipes and eas...   \n",
       "3  I admire the SF School of Cooking, but was dis...   \n",
       "4  Many people are surprised to find out that we ...   \n",
       "\n",
       "                                summary  unixReviewTime vote image  \n",
       "0                            Great Book      1356739200  NaN   NaN  \n",
       "1                     great little book      1330992000    3   NaN  \n",
       "2        very good bok with good ideas.      1250035200  NaN   NaN  \n",
       "3                           Ok cookbook      1162512000    3   NaN  \n",
       "4  Fresh and Tasty Ideas from Santa Fe!      1144713600   15   NaN  "
      ]
     },
     "execution_count": 6,
     "metadata": {},
     "output_type": "execute_result"
    }
   ],
   "source": [
    "first_chunk.head()"
   ]
  },
  {
   "cell_type": "code",
   "execution_count": 7,
   "metadata": {},
   "outputs": [
    {
     "data": {
      "text/plain": [
       "Index(['overall', 'verified', 'reviewTime', 'reviewerID', 'asin', 'style',\n",
       "       'reviewerName', 'reviewText', 'summary', 'unixReviewTime', 'vote',\n",
       "       'image'],\n",
       "      dtype='object')"
      ]
     },
     "execution_count": 7,
     "metadata": {},
     "output_type": "execute_result"
    }
   ],
   "source": [
    "first_chunk.columns"
   ]
  },
  {
   "cell_type": "code",
   "execution_count": 8,
   "metadata": {},
   "outputs": [],
   "source": [
    "def get_relevant(raw_data,column_names):\n",
    "    \"\"\"\n",
    "    raw_data: dataframe from JSOn\n",
    "    column_names: list of column names to be extracted\n",
    "    \"\"\"\n",
    "    interim_data =raw_data.loc[:,column_names]\n",
    "    interim_data.dropna(inplace=True)\n",
    "    return interim_data"
   ]
  },
  {
   "cell_type": "code",
   "execution_count": 9,
   "metadata": {},
   "outputs": [],
   "source": [
    "processed = get_relevant(first_chunk,[\"reviewerID\",\"asin\",\"overall\"])"
   ]
  },
  {
   "cell_type": "code",
   "execution_count": 10,
   "metadata": {},
   "outputs": [
    {
     "data": {
      "text/plain": [
       "overall\n",
       "5    553623\n",
       "4    236066\n",
       "3    107131\n",
       "1     55375\n",
       "2     47805\n",
       "Name: count, dtype: int64"
      ]
     },
     "execution_count": 10,
     "metadata": {},
     "output_type": "execute_result"
    }
   ],
   "source": [
    "processed[\"overall\"].value_counts()"
   ]
  },
  {
   "cell_type": "code",
   "execution_count": 11,
   "metadata": {},
   "outputs": [
    {
     "ename": "StopIteration",
     "evalue": "",
     "output_type": "error",
     "traceback": [
      "\u001b[1;31m---------------------------------------------------------------------------\u001b[0m",
      "\u001b[1;31mStopIteration\u001b[0m                             Traceback (most recent call last)",
      "\u001b[1;32mf:\\github\\VAE-based-Collaborative-Filtering\\datasets\\Amazon_movies\\Amazon_review_preprocessing copy.ipynb Cell 13\u001b[0m in \u001b[0;36m<cell line: 1>\u001b[1;34m()\u001b[0m\n\u001b[0;32m      <a href='vscode-notebook-cell:/f%3A/github/VAE-based-Collaborative-Filtering/datasets/Amazon_movies/Amazon_review_preprocessing%20copy.ipynb#X15sZmlsZQ%3D%3D?line=0'>1</a>\u001b[0m \u001b[39mfor\u001b[39;00m i \u001b[39min\u001b[39;00m \u001b[39mrange\u001b[39m(\u001b[39m8\u001b[39m):\n\u001b[1;32m----> <a href='vscode-notebook-cell:/f%3A/github/VAE-based-Collaborative-Filtering/datasets/Amazon_movies/Amazon_review_preprocessing%20copy.ipynb#X15sZmlsZQ%3D%3D?line=1'>2</a>\u001b[0m     temp_chunk \u001b[39m=\u001b[39m \u001b[39mnext\u001b[39;49m(chunk_generator)\n\u001b[0;32m      <a href='vscode-notebook-cell:/f%3A/github/VAE-based-Collaborative-Filtering/datasets/Amazon_movies/Amazon_review_preprocessing%20copy.ipynb#X15sZmlsZQ%3D%3D?line=2'>3</a>\u001b[0m     temp_processed \u001b[39m=\u001b[39m get_relevant(temp_chunk,[\u001b[39m\"\u001b[39m\u001b[39mreviewerID\u001b[39m\u001b[39m\"\u001b[39m,\u001b[39m\"\u001b[39m\u001b[39masin\u001b[39m\u001b[39m\"\u001b[39m,\u001b[39m\"\u001b[39m\u001b[39moverall\u001b[39m\u001b[39m\"\u001b[39m])\n\u001b[0;32m      <a href='vscode-notebook-cell:/f%3A/github/VAE-based-Collaborative-Filtering/datasets/Amazon_movies/Amazon_review_preprocessing%20copy.ipynb#X15sZmlsZQ%3D%3D?line=3'>4</a>\u001b[0m     processed \u001b[39m=\u001b[39m pd\u001b[39m.\u001b[39mconcat([processed,temp_processed],axis\u001b[39m=\u001b[39m\u001b[39m0\u001b[39m)\n",
      "\u001b[1;31mStopIteration\u001b[0m: "
     ]
    }
   ],
   "source": [
    "for i in range(8):\n",
    "    temp_chunk = next(chunk_generator)\n",
    "    temp_processed = get_relevant(temp_chunk,[\"reviewerID\",\"asin\",\"overall\"])\n",
    "    processed = pd.concat([processed,temp_processed],axis=0)"
   ]
  },
  {
   "cell_type": "code",
   "execution_count": 13,
   "metadata": {},
   "outputs": [],
   "source": [
    "processed.to_csv(\"processed_book.csv\",index=False)"
   ]
  },
  {
   "cell_type": "code",
   "execution_count": 12,
   "metadata": {},
   "outputs": [
    {
     "name": "stdout",
     "output_type": "stream",
     "text": [
      "<class 'pandas.core.frame.DataFrame'>\n",
      "RangeIndex: 5722988 entries, 0 to 5722987\n",
      "Data columns (total 3 columns):\n",
      " #   Column      Dtype \n",
      "---  ------      ----- \n",
      " 0   reviewerID  object\n",
      " 1   asin        object\n",
      " 2   overall     int64 \n",
      "dtypes: int64(1), object(2)\n",
      "memory usage: 131.0+ MB\n"
     ]
    }
   ],
   "source": [
    "processed.info()"
   ]
  },
  {
   "cell_type": "code",
   "execution_count": 15,
   "metadata": {},
   "outputs": [
    {
     "data": {
      "text/plain": [
       "overall\n",
       "5    3479780\n",
       "4    1252109\n",
       "3     500582\n",
       "1     269522\n",
       "2     220994\n",
       "0          1\n",
       "Name: count, dtype: int64"
      ]
     },
     "execution_count": 15,
     "metadata": {},
     "output_type": "execute_result"
    }
   ],
   "source": [
    "processed[\"overall\"].value_counts()"
   ]
  },
  {
   "cell_type": "code",
   "execution_count": 17,
   "metadata": {},
   "outputs": [
    {
     "data": {
      "image/png": "[encoded data removed]",
      "text/plain": [
       "<Figure size 1500x1000 with 1 Axes>"
      ]
     },
     "metadata": {},
     "output_type": "display_data"
    }
   ],
   "source": [
    "# 50 sec+\n",
    "processed = processed.loc[processed[\"overall\"]!=0,:]\n",
    "df=processed\n",
    "p = df.groupby('overall')['overall'].agg(['count'])\n",
    "\n",
    "# get movie count\n",
    "movie_count = df[\"asin\"].nunique()\n",
    "\n",
    "# get customer count\n",
    "cust_count = df['reviewerID'].nunique()\n",
    "\n",
    "# get rating count\n",
    "rating_count = len(df)\n",
    "\n",
    "ax = p.plot(kind = 'barh', legend = False, figsize = (15,10))\n",
    "plt.title('Total pool: {:,} Movies, {:,} customers, {:,} ratings given'.format(movie_count, cust_count, rating_count), fontsize=20)\n",
    "plt.axis('off')\n",
    "\n",
    "for i in range(1,6):\n",
    "    ax.text(p.iloc[i-1][0]/4, i-1, 'Rating {}: {:.0f}%'.format(i, p.iloc[i-1][0]*100 / p.sum()[0]), color = 'white', weight = 'bold')"
   ]
  },
  {
   "cell_type": "code",
   "execution_count": null,
   "metadata": {},
   "outputs": [],
   "source": []
  }
 ],
 "metadata": {
  "kernelspec": {
   "display_name": "Python 3",
   "language": "python",
   "name": "python3"
  },
  "language_info": {
   "codemirror_mode": {
    "name": "ipython",
    "version": 3
   },
   "file_extension": ".py",
   "mimetype": "text/x-python",
   "name": "python",
   "nbconvert_exporter": "python",
   "pygments_lexer": "ipython3",
   "version": "3.8.0"
  },
  "orig_nbformat": 4
 },
 "nbformat": 4,
 "nbformat_minor": 2
}
