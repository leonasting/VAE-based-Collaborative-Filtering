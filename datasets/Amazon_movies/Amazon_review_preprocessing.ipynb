{
 "cells": [
  {
   "attachments": {},
   "cell_type": "markdown",
   "metadata": {},
   "source": [
    "# Amazon Review of Movies and TV shows"
   ]
  },
  {
   "cell_type": "code",
   "execution_count": 1,
   "metadata": {},
   "outputs": [],
   "source": [
    "import pandas as pd\n",
    "import numpy as np\n",
    "import math\n",
    "import re\n",
    "from scipy.sparse import csr_matrix\n",
    "import matplotlib.pyplot as plt\n",
    "import seaborn as sns\n",
    "sns.set_style(\"darkgrid\")"
   ]
  },
  {
   "cell_type": "code",
   "execution_count": 2,
   "metadata": {},
   "outputs": [],
   "source": [
    "import os\n",
    "import sys"
   ]
  },
  {
   "cell_type": "code",
   "execution_count": 3,
   "metadata": {},
   "outputs": [],
   "source": [
    "import json"
   ]
  },
  {
   "attachments": {},
   "cell_type": "markdown",
   "metadata": {},
   "source": [
    "Only Considering 1 milion rows for preprocessing first"
   ]
  },
  {
   "cell_type": "code",
   "execution_count": 4,
   "metadata": {},
   "outputs": [],
   "source": [
    "# Define a generator function\n",
    "def read_json_chunks(filename, chunksize):\n",
    "    df_iterator = pd.read_json(filename, lines=True, chunksize=chunksize)\n",
    "    for chunk in df_iterator:\n",
    "        yield chunk\n",
    "\n",
    "chunk_generator = read_json_chunks(\"Movies_and_TV.json\", 1000000)"
   ]
  },
  {
   "cell_type": "code",
   "execution_count": 5,
   "metadata": {},
   "outputs": [],
   "source": [
    "# 16 seconds for 1 million rows\n",
    "first_chunk = next(chunk_generator)\n"
   ]
  },
  {
   "cell_type": "code",
   "execution_count": 6,
   "metadata": {},
   "outputs": [
    {
     "data": {
      "text/html": [
       "<div>\n",
       "<style scoped>\n",
       "    .dataframe tbody tr th:only-of-type {\n",
       "        vertical-align: middle;\n",
       "    }\n",
       "\n",
       "    .dataframe tbody tr th {\n",
       "        vertical-align: top;\n",
       "    }\n",
       "\n",
       "    .dataframe thead th {\n",
       "        text-align: right;\n",
       "    }\n",
       "</style>\n",
       "<table border=\"1\" class=\"dataframe\">\n",
       "  <thead>\n",
       "    <tr style=\"text-align: right;\">\n",
       "      <th></th>\n",
       "      <th>overall</th>\n",
       "      <th>verified</th>\n",
       "      <th>reviewTime</th>\n",
       "      <th>reviewerID</th>\n",
       "      <th>asin</th>\n",
       "      <th>style</th>\n",
       "      <th>reviewerName</th>\n",
       "      <th>reviewText</th>\n",
       "      <th>summary</th>\n",
       "      <th>unixReviewTime</th>\n",
       "      <th>vote</th>\n",
       "      <th>image</th>\n",
       "    </tr>\n",
       "  </thead>\n",
       "  <tbody>\n",
       "    <tr>\n",
       "      <th>0</th>\n",
       "      <td>5</td>\n",
       "      <td>True</td>\n",
       "      <td>03 11, 2013</td>\n",
       "      <td>A3478QRKQDOPQ2</td>\n",
       "      <td>0001527665</td>\n",
       "      <td>{'Format:': ' VHS Tape'}</td>\n",
       "      <td>jacki</td>\n",
       "      <td>really happy they got evangelised .. spoiler a...</td>\n",
       "      <td>great</td>\n",
       "      <td>1362960000</td>\n",
       "      <td>NaN</td>\n",
       "      <td>NaN</td>\n",
       "    </tr>\n",
       "    <tr>\n",
       "      <th>1</th>\n",
       "      <td>5</td>\n",
       "      <td>True</td>\n",
       "      <td>02 18, 2013</td>\n",
       "      <td>A2VHSG6TZHU1OB</td>\n",
       "      <td>0001527665</td>\n",
       "      <td>{'Format:': ' Amazon Video'}</td>\n",
       "      <td>Ken P</td>\n",
       "      <td>Having lived in West New Guinea (Papua) during...</td>\n",
       "      <td>Realistic and Accurate</td>\n",
       "      <td>1361145600</td>\n",
       "      <td>3</td>\n",
       "      <td>NaN</td>\n",
       "    </tr>\n",
       "    <tr>\n",
       "      <th>2</th>\n",
       "      <td>5</td>\n",
       "      <td>False</td>\n",
       "      <td>01 17, 2013</td>\n",
       "      <td>A23EJWOW1TLENE</td>\n",
       "      <td>0001527665</td>\n",
       "      <td>{'Format:': ' Amazon Video'}</td>\n",
       "      <td>Reina Berumen</td>\n",
       "      <td>Excellent look into contextualizing the Gospel...</td>\n",
       "      <td>Peace Child</td>\n",
       "      <td>1358380800</td>\n",
       "      <td>NaN</td>\n",
       "      <td>NaN</td>\n",
       "    </tr>\n",
       "    <tr>\n",
       "      <th>3</th>\n",
       "      <td>5</td>\n",
       "      <td>True</td>\n",
       "      <td>01 10, 2013</td>\n",
       "      <td>A1KM9FNEJ8Q171</td>\n",
       "      <td>0001527665</td>\n",
       "      <td>{'Format:': ' Amazon Video'}</td>\n",
       "      <td>N Coyle</td>\n",
       "      <td>More than anything, I've been challenged to fi...</td>\n",
       "      <td>Culturally relevant ways to share the love of ...</td>\n",
       "      <td>1357776000</td>\n",
       "      <td>NaN</td>\n",
       "      <td>NaN</td>\n",
       "    </tr>\n",
       "    <tr>\n",
       "      <th>4</th>\n",
       "      <td>4</td>\n",
       "      <td>True</td>\n",
       "      <td>12 26, 2012</td>\n",
       "      <td>A38LY2SSHVHRYB</td>\n",
       "      <td>0001527665</td>\n",
       "      <td>{'Format:': ' Amazon Video'}</td>\n",
       "      <td>Jodie Vesely</td>\n",
       "      <td>This is a great movie for a missionary going i...</td>\n",
       "      <td>Good Movie! Great for cross-cultural missionar...</td>\n",
       "      <td>1356480000</td>\n",
       "      <td>NaN</td>\n",
       "      <td>NaN</td>\n",
       "    </tr>\n",
       "  </tbody>\n",
       "</table>\n",
       "</div>"
      ],
      "text/plain": [
       "   overall  verified   reviewTime      reviewerID        asin   \n",
       "0        5      True  03 11, 2013  A3478QRKQDOPQ2  0001527665  \\\n",
       "1        5      True  02 18, 2013  A2VHSG6TZHU1OB  0001527665   \n",
       "2        5     False  01 17, 2013  A23EJWOW1TLENE  0001527665   \n",
       "3        5      True  01 10, 2013  A1KM9FNEJ8Q171  0001527665   \n",
       "4        4      True  12 26, 2012  A38LY2SSHVHRYB  0001527665   \n",
       "\n",
       "                          style   reviewerName   \n",
       "0      {'Format:': ' VHS Tape'}          jacki  \\\n",
       "1  {'Format:': ' Amazon Video'}          Ken P   \n",
       "2  {'Format:': ' Amazon Video'}  Reina Berumen   \n",
       "3  {'Format:': ' Amazon Video'}        N Coyle   \n",
       "4  {'Format:': ' Amazon Video'}   Jodie Vesely   \n",
       "\n",
       "                                          reviewText   \n",
       "0  really happy they got evangelised .. spoiler a...  \\\n",
       "1  Having lived in West New Guinea (Papua) during...   \n",
       "2  Excellent look into contextualizing the Gospel...   \n",
       "3  More than anything, I've been challenged to fi...   \n",
       "4  This is a great movie for a missionary going i...   \n",
       "\n",
       "                                             summary  unixReviewTime vote   \n",
       "0                                              great      1362960000  NaN  \\\n",
       "1                             Realistic and Accurate      1361145600    3   \n",
       "2                                        Peace Child      1358380800  NaN   \n",
       "3  Culturally relevant ways to share the love of ...      1357776000  NaN   \n",
       "4  Good Movie! Great for cross-cultural missionar...      1356480000  NaN   \n",
       "\n",
       "  image  \n",
       "0   NaN  \n",
       "1   NaN  \n",
       "2   NaN  \n",
       "3   NaN  \n",
       "4   NaN  "
      ]
     },
     "execution_count": 6,
     "metadata": {},
     "output_type": "execute_result"
    }
   ],
   "source": [
    "first_chunk.head()"
   ]
  },
  {
   "cell_type": "code",
   "execution_count": 7,
   "metadata": {},
   "outputs": [
    {
     "data": {
      "text/plain": [
       "Index(['overall', 'verified', 'reviewTime', 'reviewerID', 'asin', 'style',\n",
       "       'reviewerName', 'reviewText', 'summary', 'unixReviewTime', 'vote',\n",
       "       'image'],\n",
       "      dtype='object')"
      ]
     },
     "execution_count": 7,
     "metadata": {},
     "output_type": "execute_result"
    }
   ],
   "source": [
    "first_chunk.columns"
   ]
  },
  {
   "cell_type": "code",
   "execution_count": 9,
   "metadata": {},
   "outputs": [],
   "source": [
    "def get_relevant(raw_data,column_names):\n",
    "    \"\"\"\n",
    "    raw_data: dataframe from JSOn\n",
    "    column_names: list of column names to be extracted\n",
    "    \"\"\"\n",
    "    interim_data =raw_data.loc[:,column_names]\n",
    "    interim_data.dropna(inplace=True)\n",
    "    return interim_data"
   ]
  },
  {
   "cell_type": "code",
   "execution_count": 10,
   "metadata": {},
   "outputs": [],
   "source": [
    "processed = get_relevant(first_chunk,[\"reviewerID\",\"asin\",\"overall\"])"
   ]
  },
  {
   "cell_type": "code",
   "execution_count": 14,
   "metadata": {},
   "outputs": [
    {
     "data": {
      "text/plain": [
       "overall\n",
       "5    668084\n",
       "4    166584\n",
       "3     72007\n",
       "1     57033\n",
       "2     36292\n",
       "Name: count, dtype: int64"
      ]
     },
     "execution_count": 14,
     "metadata": {},
     "output_type": "execute_result"
    }
   ],
   "source": [
    "processed[\"overall\"].value_counts()"
   ]
  },
  {
   "cell_type": "code",
   "execution_count": 15,
   "metadata": {},
   "outputs": [
    {
     "ename": "StopIteration",
     "evalue": "",
     "output_type": "error",
     "traceback": [
      "\u001b[1;31m---------------------------------------------------------------------------\u001b[0m",
      "\u001b[1;31mStopIteration\u001b[0m                             Traceback (most recent call last)",
      "\u001b[1;32mf:\\github\\VAE-based-Collaborative-Filtering\\datasets\\Amazon_movies\\Amazon_review_preprocessing.ipynb Cell 13\u001b[0m in \u001b[0;36m<cell line: 1>\u001b[1;34m()\u001b[0m\n\u001b[0;32m      <a href='vscode-notebook-cell:/f%3A/github/VAE-based-Collaborative-Filtering/datasets/Amazon_movies/Amazon_review_preprocessing.ipynb#X23sZmlsZQ%3D%3D?line=0'>1</a>\u001b[0m \u001b[39mfor\u001b[39;00m i \u001b[39min\u001b[39;00m \u001b[39mrange\u001b[39m(\u001b[39m9\u001b[39m):\n\u001b[1;32m----> <a href='vscode-notebook-cell:/f%3A/github/VAE-based-Collaborative-Filtering/datasets/Amazon_movies/Amazon_review_preprocessing.ipynb#X23sZmlsZQ%3D%3D?line=1'>2</a>\u001b[0m     temp_chunk \u001b[39m=\u001b[39m \u001b[39mnext\u001b[39;49m(chunk_generator)\n\u001b[0;32m      <a href='vscode-notebook-cell:/f%3A/github/VAE-based-Collaborative-Filtering/datasets/Amazon_movies/Amazon_review_preprocessing.ipynb#X23sZmlsZQ%3D%3D?line=2'>3</a>\u001b[0m     temp_processed \u001b[39m=\u001b[39m get_relevant(temp_chunk,[\u001b[39m\"\u001b[39m\u001b[39mreviewerID\u001b[39m\u001b[39m\"\u001b[39m,\u001b[39m\"\u001b[39m\u001b[39masin\u001b[39m\u001b[39m\"\u001b[39m,\u001b[39m\"\u001b[39m\u001b[39moverall\u001b[39m\u001b[39m\"\u001b[39m])\n\u001b[0;32m      <a href='vscode-notebook-cell:/f%3A/github/VAE-based-Collaborative-Filtering/datasets/Amazon_movies/Amazon_review_preprocessing.ipynb#X23sZmlsZQ%3D%3D?line=3'>4</a>\u001b[0m     processed \u001b[39m=\u001b[39m pd\u001b[39m.\u001b[39mconcat([processed,temp_processed],axis\u001b[39m=\u001b[39m\u001b[39m0\u001b[39m)\n",
      "\u001b[1;31mStopIteration\u001b[0m: "
     ]
    }
   ],
   "source": [
    "for i in range(8):\n",
    "    temp_chunk = next(chunk_generator)\n",
    "    temp_processed = get_relevant(temp_chunk,[\"reviewerID\",\"asin\",\"overall\"])\n",
    "    processed = pd.concat([processed,temp_processed],axis=0)"
   ]
  },
  {
   "cell_type": "code",
   "execution_count": 17,
   "metadata": {},
   "outputs": [],
   "source": [
    "processed.to_csv(\"processed.csv\",index=False)"
   ]
  },
  {
   "cell_type": "code",
   "execution_count": 18,
   "metadata": {},
   "outputs": [
    {
     "name": "stdout",
     "output_type": "stream",
     "text": [
      "<class 'pandas.core.frame.DataFrame'>\n",
      "RangeIndex: 8765568 entries, 0 to 8765567\n",
      "Data columns (total 3 columns):\n",
      " #   Column      Dtype \n",
      "---  ------      ----- \n",
      " 0   reviewerID  object\n",
      " 1   asin        object\n",
      " 2   overall     int64 \n",
      "dtypes: int64(1), object(2)\n",
      "memory usage: 200.6+ MB\n"
     ]
    }
   ],
   "source": [
    "processed.info()"
   ]
  },
  {
   "cell_type": "code",
   "execution_count": 19,
   "metadata": {},
   "outputs": [
    {
     "data": {
      "image/png": "[encoded data removed]",
      "text/plain": [
       "<Figure size 1500x1000 with 1 Axes>"
      ]
     },
     "metadata": {},
     "output_type": "display_data"
    }
   ],
   "source": [
    "# 50 sec+\n",
    "df=processed\n",
    "p = df.groupby('overall')['overall'].agg(['count'])\n",
    "\n",
    "# get movie count\n",
    "movie_count = df[\"asin\"].nunique()\n",
    "\n",
    "# get customer count\n",
    "cust_count = df['reviewerID'].nunique()\n",
    "\n",
    "# get rating count\n",
    "rating_count = len(df)\n",
    "\n",
    "ax = p.plot(kind = 'barh', legend = False, figsize = (15,10))\n",
    "plt.title('Total pool: {:,} Movies, {:,} customers, {:,} ratings given'.format(movie_count, cust_count, rating_count), fontsize=20)\n",
    "plt.axis('off')\n",
    "\n",
    "for i in range(1,6):\n",
    "    ax.text(p.iloc[i-1][0]/4, i-1, 'Rating {}: {:.0f}%'.format(i, p.iloc[i-1][0]*100 / p.sum()[0]), color = 'white', weight = 'bold')"
   ]
  },
  {
   "cell_type": "code",
   "execution_count": null,
   "metadata": {},
   "outputs": [],
   "source": []
  }
 ],
 "metadata": {
  "kernelspec": {
   "display_name": "Python 3",
   "language": "python",
   "name": "python3"
  },
  "language_info": {
   "codemirror_mode": {
    "name": "ipython",
    "version": 3
   },
   "file_extension": ".py",
   "mimetype": "text/x-python",
   "name": "python",
   "nbconvert_exporter": "python",
   "pygments_lexer": "ipython3",
   "version": "3.8.0"
  },
  "orig_nbformat": 4
 },
 "nbformat": 4,
 "nbformat_minor": 2
}
