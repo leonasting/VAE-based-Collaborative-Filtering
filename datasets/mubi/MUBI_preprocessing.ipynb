{
 "cells": [
  {
   "attachments": {},
   "cell_type": "markdown",
   "metadata": {},
   "source": [
    "# MUBI Dataset Preprocessing"
   ]
  },
  {
   "cell_type": "code",
   "execution_count": 1,
   "metadata": {},
   "outputs": [],
   "source": [
    "import pandas as pd\n",
    "import numpy as np\n",
    "import math\n",
    "import re\n",
    "from scipy.sparse import csr_matrix\n",
    "import matplotlib.pyplot as plt\n",
    "import seaborn as sns\n",
    "sns.set_style(\"darkgrid\")"
   ]
  },
  {
   "cell_type": "code",
   "execution_count": 2,
   "metadata": {},
   "outputs": [],
   "source": [
    "import os\n",
    "import sys"
   ]
  },
  {
   "cell_type": "code",
   "execution_count": 5,
   "metadata": {},
   "outputs": [
    {
     "name": "stderr",
     "output_type": "stream",
     "text": [
      "C:\\Users\\Alvi\\AppData\\Local\\Temp\\ipykernel_22336\\2082741419.py:1: DtypeWarning: Columns (9,10,11,12) have mixed types. Specify dtype option on import or set low_memory=False.\n",
      "  df1 = pd.read_csv(\"mubi_ratings_data.csv\")\n"
     ]
    }
   ],
   "source": [
    "# Load data 42 secs\n",
    "df1 = pd.read_csv(\"mubi_ratings_data.csv\")\n"
   ]
  },
  {
   "cell_type": "code",
   "execution_count": 6,
   "metadata": {},
   "outputs": [
    {
     "data": {
      "text/html": [
       "<div>\n",
       "<style scoped>\n",
       "    .dataframe tbody tr th:only-of-type {\n",
       "        vertical-align: middle;\n",
       "    }\n",
       "\n",
       "    .dataframe tbody tr th {\n",
       "        vertical-align: top;\n",
       "    }\n",
       "\n",
       "    .dataframe thead th {\n",
       "        text-align: right;\n",
       "    }\n",
       "</style>\n",
       "<table border=\"1\" class=\"dataframe\">\n",
       "  <thead>\n",
       "    <tr style=\"text-align: right;\">\n",
       "      <th></th>\n",
       "      <th>movie_id</th>\n",
       "      <th>rating_id</th>\n",
       "      <th>rating_url</th>\n",
       "      <th>rating_score</th>\n",
       "      <th>rating_timestamp_utc</th>\n",
       "      <th>critic</th>\n",
       "      <th>critic_likes</th>\n",
       "      <th>critic_comments</th>\n",
       "      <th>user_id</th>\n",
       "      <th>user_trialist</th>\n",
       "      <th>user_subscriber</th>\n",
       "      <th>user_eligible_for_trial</th>\n",
       "      <th>user_has_payment_method</th>\n",
       "    </tr>\n",
       "  </thead>\n",
       "  <tbody>\n",
       "    <tr>\n",
       "      <th>0</th>\n",
       "      <td>1066</td>\n",
       "      <td>15610495</td>\n",
       "      <td>http://mubi.com/films/pavee-lackeen-the-travel...</td>\n",
       "      <td>3.0</td>\n",
       "      <td>2017-06-10 12:38:33</td>\n",
       "      <td>NaN</td>\n",
       "      <td>0</td>\n",
       "      <td>0</td>\n",
       "      <td>41579158</td>\n",
       "      <td>False</td>\n",
       "      <td>False</td>\n",
       "      <td>True</td>\n",
       "      <td>False</td>\n",
       "    </tr>\n",
       "    <tr>\n",
       "      <th>1</th>\n",
       "      <td>1066</td>\n",
       "      <td>10704606</td>\n",
       "      <td>http://mubi.com/films/pavee-lackeen-the-travel...</td>\n",
       "      <td>2.0</td>\n",
       "      <td>2014-08-15 23:42:31</td>\n",
       "      <td>NaN</td>\n",
       "      <td>0</td>\n",
       "      <td>0</td>\n",
       "      <td>85981819</td>\n",
       "      <td>True</td>\n",
       "      <td>True</td>\n",
       "      <td>False</td>\n",
       "      <td>True</td>\n",
       "    </tr>\n",
       "    <tr>\n",
       "      <th>2</th>\n",
       "      <td>1066</td>\n",
       "      <td>10177114</td>\n",
       "      <td>http://mubi.com/films/pavee-lackeen-the-travel...</td>\n",
       "      <td>2.0</td>\n",
       "      <td>2014-01-30 13:21:57</td>\n",
       "      <td>NaN</td>\n",
       "      <td>0</td>\n",
       "      <td>0</td>\n",
       "      <td>4208563</td>\n",
       "      <td>False</td>\n",
       "      <td>False</td>\n",
       "      <td>True</td>\n",
       "      <td>True</td>\n",
       "    </tr>\n",
       "    <tr>\n",
       "      <th>3</th>\n",
       "      <td>1066</td>\n",
       "      <td>10130280</td>\n",
       "      <td>http://mubi.com/films/pavee-lackeen-the-travel...</td>\n",
       "      <td>3.0</td>\n",
       "      <td>2014-01-19 01:04:23</td>\n",
       "      <td>I am a bit disappointed by this documentary fi...</td>\n",
       "      <td>0</td>\n",
       "      <td>0</td>\n",
       "      <td>9820140</td>\n",
       "      <td>False</td>\n",
       "      <td>False</td>\n",
       "      <td>True</td>\n",
       "      <td>False</td>\n",
       "    </tr>\n",
       "    <tr>\n",
       "      <th>4</th>\n",
       "      <td>1066</td>\n",
       "      <td>8357049</td>\n",
       "      <td>http://mubi.com/films/pavee-lackeen-the-travel...</td>\n",
       "      <td>4.0</td>\n",
       "      <td>2012-10-02 18:28:47</td>\n",
       "      <td>NaN</td>\n",
       "      <td>0</td>\n",
       "      <td>0</td>\n",
       "      <td>68654088</td>\n",
       "      <td>False</td>\n",
       "      <td>False</td>\n",
       "      <td>True</td>\n",
       "      <td>True</td>\n",
       "    </tr>\n",
       "  </tbody>\n",
       "</table>\n",
       "</div>"
      ],
      "text/plain": [
       "   movie_id  rating_id                                         rating_url   \n",
       "0      1066   15610495  http://mubi.com/films/pavee-lackeen-the-travel...  \\\n",
       "1      1066   10704606  http://mubi.com/films/pavee-lackeen-the-travel...   \n",
       "2      1066   10177114  http://mubi.com/films/pavee-lackeen-the-travel...   \n",
       "3      1066   10130280  http://mubi.com/films/pavee-lackeen-the-travel...   \n",
       "4      1066    8357049  http://mubi.com/films/pavee-lackeen-the-travel...   \n",
       "\n",
       "   rating_score rating_timestamp_utc   \n",
       "0           3.0  2017-06-10 12:38:33  \\\n",
       "1           2.0  2014-08-15 23:42:31   \n",
       "2           2.0  2014-01-30 13:21:57   \n",
       "3           3.0  2014-01-19 01:04:23   \n",
       "4           4.0  2012-10-02 18:28:47   \n",
       "\n",
       "                                              critic  critic_likes   \n",
       "0                                                NaN             0  \\\n",
       "1                                                NaN             0   \n",
       "2                                                NaN             0   \n",
       "3  I am a bit disappointed by this documentary fi...             0   \n",
       "4                                                NaN             0   \n",
       "\n",
       "   critic_comments   user_id user_trialist user_subscriber   \n",
       "0                0  41579158         False           False  \\\n",
       "1                0  85981819          True            True   \n",
       "2                0   4208563         False           False   \n",
       "3                0   9820140         False           False   \n",
       "4                0  68654088         False           False   \n",
       "\n",
       "  user_eligible_for_trial user_has_payment_method  \n",
       "0                    True                   False  \n",
       "1                   False                    True  \n",
       "2                    True                    True  \n",
       "3                    True                   False  \n",
       "4                    True                    True  "
      ]
     },
     "execution_count": 6,
     "metadata": {},
     "output_type": "execute_result"
    }
   ],
   "source": [
    "df1.head()"
   ]
  },
  {
   "cell_type": "code",
   "execution_count": 9,
   "metadata": {},
   "outputs": [],
   "source": [
    "df = df1.loc[:,[\"movie_id\",\"rating_score\",\"user_id\"]]\n",
    "del df1"
   ]
  },
  {
   "cell_type": "code",
   "execution_count": 10,
   "metadata": {},
   "outputs": [
    {
     "data": {
      "text/html": [
       "<div>\n",
       "<style scoped>\n",
       "    .dataframe tbody tr th:only-of-type {\n",
       "        vertical-align: middle;\n",
       "    }\n",
       "\n",
       "    .dataframe tbody tr th {\n",
       "        vertical-align: top;\n",
       "    }\n",
       "\n",
       "    .dataframe thead th {\n",
       "        text-align: right;\n",
       "    }\n",
       "</style>\n",
       "<table border=\"1\" class=\"dataframe\">\n",
       "  <thead>\n",
       "    <tr style=\"text-align: right;\">\n",
       "      <th></th>\n",
       "      <th>movie_id</th>\n",
       "      <th>rating_score</th>\n",
       "      <th>user_id</th>\n",
       "    </tr>\n",
       "  </thead>\n",
       "  <tbody>\n",
       "    <tr>\n",
       "      <th>0</th>\n",
       "      <td>1066</td>\n",
       "      <td>3.0</td>\n",
       "      <td>41579158</td>\n",
       "    </tr>\n",
       "    <tr>\n",
       "      <th>1</th>\n",
       "      <td>1066</td>\n",
       "      <td>2.0</td>\n",
       "      <td>85981819</td>\n",
       "    </tr>\n",
       "    <tr>\n",
       "      <th>2</th>\n",
       "      <td>1066</td>\n",
       "      <td>2.0</td>\n",
       "      <td>4208563</td>\n",
       "    </tr>\n",
       "    <tr>\n",
       "      <th>3</th>\n",
       "      <td>1066</td>\n",
       "      <td>3.0</td>\n",
       "      <td>9820140</td>\n",
       "    </tr>\n",
       "    <tr>\n",
       "      <th>4</th>\n",
       "      <td>1066</td>\n",
       "      <td>4.0</td>\n",
       "      <td>68654088</td>\n",
       "    </tr>\n",
       "  </tbody>\n",
       "</table>\n",
       "</div>"
      ],
      "text/plain": [
       "   movie_id  rating_score   user_id\n",
       "0      1066           3.0  41579158\n",
       "1      1066           2.0  85981819\n",
       "2      1066           2.0   4208563\n",
       "3      1066           3.0   9820140\n",
       "4      1066           4.0  68654088"
      ]
     },
     "execution_count": 10,
     "metadata": {},
     "output_type": "execute_result"
    }
   ],
   "source": [
    "df.head()"
   ]
  },
  {
   "cell_type": "code",
   "execution_count": 12,
   "metadata": {},
   "outputs": [
    {
     "name": "stdout",
     "output_type": "stream",
     "text": [
      "15520005\n",
      "15519989\n"
     ]
    }
   ],
   "source": [
    "print(len(df))\n",
    "df.drop_duplicates(inplace=True)\n",
    "print(len(df))\n"
   ]
  },
  {
   "cell_type": "code",
   "execution_count": 13,
   "metadata": {},
   "outputs": [
    {
     "data": {
      "text/plain": [
       "rating_score\n",
       "4.0    5271042\n",
       "3.0    4156583\n",
       "5.0    3570833\n",
       "2.0    1723743\n",
       "1.0     771057\n",
       "Name: count, dtype: int64"
      ]
     },
     "execution_count": 13,
     "metadata": {},
     "output_type": "execute_result"
    }
   ],
   "source": [
    "df[\"rating_score\"].value_counts()"
   ]
  },
  {
   "cell_type": "code",
   "execution_count": 14,
   "metadata": {},
   "outputs": [
    {
     "data": {
      "image/png": "[encoded data removed]",
      "text/plain": [
       "<Figure size 1500x1000 with 1 Axes>"
      ]
     },
     "metadata": {},
     "output_type": "display_data"
    }
   ],
   "source": [
    "# 50 sec+\n",
    "p = df.groupby('rating_score')['rating_score'].agg(['count'])\n",
    "\n",
    "# get movie count\n",
    "movie_count = df[\"movie_id\"].nunique()\n",
    "\n",
    "# get customer count\n",
    "cust_count = df['user_id'].nunique()\n",
    "\n",
    "# get rating count\n",
    "rating_count = len(df)\n",
    "\n",
    "ax = p.plot(kind = 'barh', legend = False, figsize = (15,10))\n",
    "plt.title('Total pool: {:,} Movies, {:,} customers, {:,} ratings given'.format(movie_count, cust_count, rating_count), fontsize=20)\n",
    "plt.axis('off')\n",
    "\n",
    "for i in range(1,6):\n",
    "    ax.text(p.iloc[i-1][0]/4, i-1, 'Rating {}: {:.0f}%'.format(i, p.iloc[i-1][0]*100 / p.sum()[0]), color = 'white', weight = 'bold')"
   ]
  },
  {
   "cell_type": "markdown",
   "metadata": {},
   "source": [
    "## Filteration Criteria\n",
    "\n",
    "(Based on NEtflix Preprocessing)\n",
    "</br>\n",
    "1. Only keep Rows where user has provided rating more than 4 (4 and 5)\n",
    "2. Only keep data about recipe which were atleast reviewed once(or user provided input)\n",
    "3. Only keep data  users  whol reviewd atleast five recipes(or user provided input)"
   ]
  },
  {
   "cell_type": "code",
   "execution_count": 17,
   "metadata": {},
   "outputs": [],
   "source": [
    "#1.binarize the data(Only Keep rating 5)\n",
    "df_filtered=df[df[\"rating_score\"]>=4]\n"
   ]
  },
  {
   "cell_type": "code",
   "execution_count": 22,
   "metadata": {},
   "outputs": [
    {
     "name": "stdout",
     "output_type": "stream",
     "text": [
      "Review records before filteration 15519989 and after filteration records 8841875\n"
     ]
    }
   ],
   "source": [
    "print(\"Review records before filteration {0:d} and after filteration records {1:d}\".format(len(df), len(df_filtered)))"
   ]
  },
  {
   "cell_type": "code",
   "execution_count": 26,
   "metadata": {},
   "outputs": [],
   "source": [
    "del df"
   ]
  },
  {
   "cell_type": "code",
   "execution_count": 23,
   "metadata": {},
   "outputs": [],
   "source": [
    "def get_count(tp, id):\n",
    "    \"\"\" \n",
    "    Acts very similar to value counts for particular column and \\\n",
    "    can be used filtering the indexes by triplet fucntion\n",
    "    \"\"\"\n",
    "    playcount_groupbyid = tp[[id]].groupby(id, as_index=False)\n",
    "    count = playcount_groupbyid.size()\n",
    "    return count\n",
    "\n",
    "def filter_triplets(tp,min_uc=5,min_sc=0):\n",
    "    \"\"\"\n",
    "    FIltering based on count of recipe reviewed by user and count users who reviewed the certain amount of recipe\n",
    "    \"\"\"\n",
    "    # Only keep the triplets for items which were rated at least min_sc times\n",
    "    if min_sc > 0:\n",
    "        itemcount = tp[\"movie_id\"].value_counts()\n",
    "        tp = tp[tp[\"movie_id\"].isin(itemcount.index[itemcount >= min_sc])]\n",
    "    # Only keep the triplets for users who have rated at least min_uc items\n",
    "    # After doing this, some of the items will have less than min_uc users, but should only be a small proportion\n",
    "    if min_uc > 0:\n",
    "        usercount = tp[\"user_id\"].value_counts()\n",
    "        tp = tp[tp[\"user_id\"].isin(usercount.index[usercount >= min_uc])]\n",
    "    # Update both usercount and itemcount after filtering\n",
    "    usercount, itemcount = tp[\"user_id\"].value_counts(), tp[\"movie_id\"].value_counts() \n",
    "    return tp, usercount, itemcount"
   ]
  },
  {
   "cell_type": "code",
   "execution_count": 25,
   "metadata": {},
   "outputs": [],
   "source": [
    "raw_data, user_activity, item_popularity = filter_triplets(df_filtered, min_uc=5, min_sc=0)"
   ]
  },
  {
   "cell_type": "code",
   "execution_count": 29,
   "metadata": {},
   "outputs": [
    {
     "data": {
      "text/plain": [
       "(130114, 401386, 94496, 96926)"
      ]
     },
     "execution_count": 29,
     "metadata": {},
     "output_type": "execute_result"
    }
   ],
   "source": [
    "len(user_activity), df_filtered[\"user_id\"].nunique(), len(item_popularity), df_filtered[\"movie_id\"].nunique()"
   ]
  },
  {
   "cell_type": "code",
   "execution_count": 31,
   "metadata": {},
   "outputs": [
    {
     "name": "stdout",
     "output_type": "stream",
     "text": [
      "After filtering, there are 8412310 watching events from 130114 users and 94496 movies (sparsity: 0.068%)\n"
     ]
    }
   ],
   "source": [
    "sparsity = 1. * raw_data.shape[0] / (user_activity.shape[0] * item_popularity.shape[0])\n",
    "\n",
    "print(\"After filtering, there are %d watching events from %d users and %d movies (sparsity: %.3f%%)\" % \n",
    "      (raw_data.shape[0], user_activity.shape[0], item_popularity.shape[0], sparsity * 100))"
   ]
  },
  {
   "cell_type": "code",
   "execution_count": 32,
   "metadata": {},
   "outputs": [],
   "source": [
    "unique_uid = user_activity.index\n",
    "\n",
    "np.random.seed(98765)\n",
    "idx_perm = np.random.permutation(unique_uid.size)\n",
    "unique_uid = unique_uid[idx_perm]"
   ]
  },
  {
   "cell_type": "code",
   "execution_count": 33,
   "metadata": {},
   "outputs": [
    {
     "name": "stdout",
     "output_type": "stream",
     "text": [
      "130114\n"
     ]
    }
   ],
   "source": [
    "# create train/validation/test users\n",
    "n_users = unique_uid.size\n",
    "print(n_users)"
   ]
  },
  {
   "cell_type": "code",
   "execution_count": 34,
   "metadata": {},
   "outputs": [],
   "source": [
    "# create train/validation/test users\n",
    "n_users = unique_uid.size\n",
    "n_heldout_users = 40000\n",
    "\n",
    "tr_users = unique_uid[:(n_users - n_heldout_users * 2)]\n",
    "vd_users = unique_uid[(n_users - n_heldout_users * 2): (n_users - n_heldout_users)]\n",
    "te_users = unique_uid[(n_users - n_heldout_users):]"
   ]
  },
  {
   "cell_type": "code",
   "execution_count": 36,
   "metadata": {},
   "outputs": [],
   "source": [
    "train_plays = raw_data.loc[raw_data['user_id'].isin(tr_users)]\n"
   ]
  },
  {
   "cell_type": "code",
   "execution_count": 37,
   "metadata": {},
   "outputs": [],
   "source": [
    "unique_sid = pd.unique(train_plays['movie_id'])"
   ]
  },
  {
   "cell_type": "code",
   "execution_count": 38,
   "metadata": {},
   "outputs": [],
   "source": [
    "show2id = dict((sid, i) for (i, sid) in enumerate(unique_sid))# Movie Id to index\n",
    "profile2id = dict((pid, i) for (i, pid) in enumerate(unique_uid))# Uid to index"
   ]
  },
  {
   "cell_type": "code",
   "execution_count": 39,
   "metadata": {},
   "outputs": [],
   "source": [
    "def split_train_test_proportion(data, test_prop=0.2):\n",
    "    data_grouped_by_user = data.groupby('user_id')\n",
    "    tr_list, te_list = list(), list()\n",
    "\n",
    "    np.random.seed(98765)\n",
    "\n",
    "    for i, (_, group) in enumerate(data_grouped_by_user):\n",
    "        n_items_u = len(group)\n",
    "\n",
    "        if n_items_u >= 5:\n",
    "            idx = np.zeros(n_items_u, dtype='bool')\n",
    "            idx[np.random.choice(n_items_u, size=int(test_prop * n_items_u), replace=False).astype('int64')] = True\n",
    "\n",
    "            tr_list.append(group[np.logical_not(idx)])\n",
    "            te_list.append(group[idx])\n",
    "        else:\n",
    "            tr_list.append(group)\n",
    "\n",
    "        if i % 1000 == 0:\n",
    "            print(\"%d users sampled\" % i)\n",
    "            sys.stdout.flush()\n",
    "\n",
    "    data_tr = pd.concat(tr_list)\n",
    "    data_te = pd.concat(te_list)\n",
    "    \n",
    "    return data_tr, data_te"
   ]
  },
  {
   "cell_type": "code",
   "execution_count": 40,
   "metadata": {},
   "outputs": [],
   "source": [
    "vad_plays = raw_data.loc[raw_data['user_id'].isin(vd_users)]\n",
    "vad_plays = vad_plays.loc[vad_plays['movie_id'].isin(unique_sid)]"
   ]
  },
  {
   "cell_type": "code",
   "execution_count": 41,
   "metadata": {},
   "outputs": [
    {
     "name": "stdout",
     "output_type": "stream",
     "text": [
      "0 users sampled\n",
      "1000 users sampled\n",
      "2000 users sampled\n",
      "3000 users sampled\n",
      "4000 users sampled\n",
      "5000 users sampled\n",
      "6000 users sampled\n",
      "7000 users sampled\n",
      "8000 users sampled\n",
      "9000 users sampled\n",
      "10000 users sampled\n",
      "11000 users sampled\n",
      "12000 users sampled\n",
      "13000 users sampled\n",
      "14000 users sampled\n",
      "15000 users sampled\n",
      "16000 users sampled\n",
      "17000 users sampled\n",
      "18000 users sampled\n",
      "19000 users sampled\n",
      "20000 users sampled\n",
      "21000 users sampled\n",
      "22000 users sampled\n",
      "23000 users sampled\n",
      "24000 users sampled\n",
      "25000 users sampled\n",
      "26000 users sampled\n",
      "27000 users sampled\n",
      "28000 users sampled\n",
      "29000 users sampled\n",
      "30000 users sampled\n",
      "31000 users sampled\n",
      "32000 users sampled\n",
      "33000 users sampled\n",
      "34000 users sampled\n",
      "35000 users sampled\n",
      "36000 users sampled\n",
      "37000 users sampled\n",
      "38000 users sampled\n",
      "39000 users sampled\n"
     ]
    }
   ],
   "source": [
    "vad_plays_tr, vad_plays_te = split_train_test_proportion(vad_plays)"
   ]
  },
  {
   "cell_type": "code",
   "execution_count": 42,
   "metadata": {},
   "outputs": [],
   "source": [
    "test_plays = raw_data.loc[raw_data['user_id'].isin(te_users)]\n",
    "test_plays = test_plays.loc[test_plays['movie_id'].isin(unique_sid)]"
   ]
  },
  {
   "cell_type": "code",
   "execution_count": 43,
   "metadata": {},
   "outputs": [
    {
     "name": "stdout",
     "output_type": "stream",
     "text": [
      "0 users sampled\n",
      "1000 users sampled\n",
      "2000 users sampled\n",
      "3000 users sampled\n",
      "4000 users sampled\n",
      "5000 users sampled\n",
      "6000 users sampled\n",
      "7000 users sampled\n",
      "8000 users sampled\n",
      "9000 users sampled\n",
      "10000 users sampled\n",
      "11000 users sampled\n",
      "12000 users sampled\n",
      "13000 users sampled\n",
      "14000 users sampled\n",
      "15000 users sampled\n",
      "16000 users sampled\n",
      "17000 users sampled\n",
      "18000 users sampled\n",
      "19000 users sampled\n",
      "20000 users sampled\n",
      "21000 users sampled\n",
      "22000 users sampled\n",
      "23000 users sampled\n",
      "24000 users sampled\n",
      "25000 users sampled\n",
      "26000 users sampled\n",
      "27000 users sampled\n",
      "28000 users sampled\n",
      "29000 users sampled\n",
      "30000 users sampled\n",
      "31000 users sampled\n",
      "32000 users sampled\n",
      "33000 users sampled\n",
      "34000 users sampled\n",
      "35000 users sampled\n",
      "36000 users sampled\n",
      "37000 users sampled\n",
      "38000 users sampled\n",
      "39000 users sampled\n"
     ]
    }
   ],
   "source": [
    "test_plays_tr, test_plays_te = split_train_test_proportion(test_plays)"
   ]
  },
  {
   "cell_type": "markdown",
   "metadata": {},
   "source": [
    "### Save the data into (user_index, item_index) format"
   ]
  },
  {
   "cell_type": "code",
   "execution_count": 44,
   "metadata": {},
   "outputs": [],
   "source": [
    "pro_dir = \"./\"\n",
    "\n",
    "if not os.path.exists(pro_dir):\n",
    "    os.makedirs(pro_dir)\n",
    "\n",
    "with open(os.path.join(pro_dir, 'unique_sid.txt'), 'w') as f:\n",
    "    for sid in unique_sid:\n",
    "        f.write('%s\\n' % sid)"
   ]
  },
  {
   "cell_type": "code",
   "execution_count": 45,
   "metadata": {},
   "outputs": [],
   "source": [
    "def numerize(tp):\n",
    "    uid = list(map(lambda x: profile2id[x], tp['user_id']))\n",
    "    sid = list(map(lambda x: show2id[x], tp['movie_id']))\n",
    "    return pd.DataFrame(data={'uid': uid, 'sid': sid}, columns=['uid', 'sid'])"
   ]
  },
  {
   "cell_type": "code",
   "execution_count": 46,
   "metadata": {},
   "outputs": [
    {
     "data": {
      "text/plain": [
       "(Index(['uid', 'sid'], dtype='object'), (3222869, 2))"
      ]
     },
     "execution_count": 46,
     "metadata": {},
     "output_type": "execute_result"
    }
   ],
   "source": [
    "train_data = numerize(train_plays)\n",
    "train_data.columns, train_data.shape"
   ]
  },
  {
   "cell_type": "code",
   "execution_count": 48,
   "metadata": {},
   "outputs": [],
   "source": [
    "train_data.to_csv(os.path.join(pro_dir, 'train.csv'), index=False)"
   ]
  },
  {
   "cell_type": "code",
   "execution_count": 50,
   "metadata": {},
   "outputs": [
    {
     "data": {
      "text/plain": [
       "(Index(['uid', 'sid'], dtype='object'), (2075088, 2))"
      ]
     },
     "execution_count": 50,
     "metadata": {},
     "output_type": "execute_result"
    }
   ],
   "source": [
    "vad_data_tr = numerize(vad_plays_tr)\n",
    "vad_data_tr.columns, vad_data_tr.shape"
   ]
  },
  {
   "cell_type": "code",
   "execution_count": 51,
   "metadata": {},
   "outputs": [],
   "source": [
    "\n",
    "vad_data_tr.to_csv(os.path.join(pro_dir, 'validation_tr.csv'), index=False)"
   ]
  },
  {
   "cell_type": "code",
   "execution_count": 52,
   "metadata": {},
   "outputs": [],
   "source": [
    "vad_data_te = numerize(vad_plays_te)\n",
    "vad_data_te.to_csv(os.path.join(pro_dir, 'validation_te.csv'), index=False)"
   ]
  },
  {
   "cell_type": "code",
   "execution_count": 53,
   "metadata": {},
   "outputs": [],
   "source": [
    "test_data_tr = numerize(test_plays_tr)\n",
    "test_data_tr.to_csv(os.path.join(pro_dir, 'test_tr.csv'), index=False)"
   ]
  },
  {
   "cell_type": "code",
   "execution_count": 54,
   "metadata": {},
   "outputs": [],
   "source": [
    "test_data_te = numerize(test_plays_te)\n",
    "test_data_te.to_csv(os.path.join(pro_dir, 'test_te.csv'), index=False)"
   ]
  },
  {
   "cell_type": "code",
   "execution_count": 55,
   "metadata": {},
   "outputs": [
    {
     "data": {
      "text/html": [
       "<div>\n",
       "<style scoped>\n",
       "    .dataframe tbody tr th:only-of-type {\n",
       "        vertical-align: middle;\n",
       "    }\n",
       "\n",
       "    .dataframe tbody tr th {\n",
       "        vertical-align: top;\n",
       "    }\n",
       "\n",
       "    .dataframe thead th {\n",
       "        text-align: right;\n",
       "    }\n",
       "</style>\n",
       "<table border=\"1\" class=\"dataframe\">\n",
       "  <thead>\n",
       "    <tr style=\"text-align: right;\">\n",
       "      <th></th>\n",
       "      <th>uid</th>\n",
       "      <th>sid</th>\n",
       "    </tr>\n",
       "  </thead>\n",
       "  <tbody>\n",
       "    <tr>\n",
       "      <th>0</th>\n",
       "      <td>91176</td>\n",
       "      <td>45130</td>\n",
       "    </tr>\n",
       "    <tr>\n",
       "      <th>1</th>\n",
       "      <td>112627</td>\n",
       "      <td>637</td>\n",
       "    </tr>\n",
       "    <tr>\n",
       "      <th>2</th>\n",
       "      <td>112627</td>\n",
       "      <td>34831</td>\n",
       "    </tr>\n",
       "    <tr>\n",
       "      <th>3</th>\n",
       "      <td>90485</td>\n",
       "      <td>59</td>\n",
       "    </tr>\n",
       "    <tr>\n",
       "      <th>4</th>\n",
       "      <td>90485</td>\n",
       "      <td>475</td>\n",
       "    </tr>\n",
       "  </tbody>\n",
       "</table>\n",
       "</div>"
      ],
      "text/plain": [
       "      uid    sid\n",
       "0   91176  45130\n",
       "1  112627    637\n",
       "2  112627  34831\n",
       "3   90485     59\n",
       "4   90485    475"
      ]
     },
     "execution_count": 55,
     "metadata": {},
     "output_type": "execute_result"
    }
   ],
   "source": [
    "test_data_te.head()"
   ]
  },
  {
   "cell_type": "code",
   "execution_count": 56,
   "metadata": {},
   "outputs": [
    {
     "data": {
      "text/plain": [
       "((3222869, 2), (500717, 2), (2073626, 2), (501155, 2), (2075088, 2))"
      ]
     },
     "execution_count": 56,
     "metadata": {},
     "output_type": "execute_result"
    }
   ],
   "source": [
    "train_data.shape,test_data_te.shape,test_data_tr.shape,vad_data_te.shape,vad_data_tr.shape"
   ]
  }
 ],
 "metadata": {
  "kernelspec": {
   "display_name": "Python 3",
   "language": "python",
   "name": "python3"
  },
  "language_info": {
   "codemirror_mode": {
    "name": "ipython",
    "version": 3
   },
   "file_extension": ".py",
   "mimetype": "text/x-python",
   "name": "python",
   "nbconvert_exporter": "python",
   "pygments_lexer": "ipython3",
   "version": "3.8.0"
  },
  "orig_nbformat": 4
 },
 "nbformat": 4,
 "nbformat_minor": 2
}
